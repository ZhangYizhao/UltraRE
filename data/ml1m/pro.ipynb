{
 "cells": [
  {
   "cell_type": "code",
   "execution_count": 1,
   "metadata": {
    "pycharm": {
     "name": "#%%\n"
    }
   },
   "outputs": [
    {
     "name": "stdout",
     "output_type": "stream",
     "text": [
      "            0     1  2          3\n",
      "0           1  1193  5  978300760\n",
      "1           1   661  3  978302109\n",
      "2           1   914  3  978301968\n",
      "3           1  3408  4  978300275\n",
      "4           1  2355  5  978824291\n",
      "...       ...   ... ..        ...\n",
      "1000204  6040  1091  1  956716541\n",
      "1000205  6040  1094  5  956704887\n",
      "1000206  6040   562  5  956704746\n",
      "1000207  6040  1096  4  956715648\n",
      "1000208  6040  1097  4  956715569\n",
      "\n",
      "[1000209 rows x 4 columns]\n",
      "Number of ratings: 1000209\n"
     ]
    }
   ],
   "source": [
    "import pandas as pd\n",
    "import numpy as np\n",
    "\n",
    "\n",
    "pdr = pd.read_csv('ratings.dat', delimiter='::', header=None, engine='python')\n",
    "print(pdr)\n",
    "print('Number of ratings:', len(pdr))\n",
    "#print('Number of users:', len(pdr['uid'].unique()))\n",
    "#print('Number of movies:', len(pdr['iid'].unique()))"
   ]
  },
  {
   "cell_type": "code",
   "execution_count": 2,
   "metadata": {},
   "outputs": [
    {
     "data": {
      "text/html": [
       "<div>\n",
       "<style scoped>\n",
       "    .dataframe tbody tr th:only-of-type {\n",
       "        vertical-align: middle;\n",
       "    }\n",
       "\n",
       "    .dataframe tbody tr th {\n",
       "        vertical-align: top;\n",
       "    }\n",
       "\n",
       "    .dataframe thead th {\n",
       "        text-align: right;\n",
       "    }\n",
       "</style>\n",
       "<table border=\"1\" class=\"dataframe\">\n",
       "  <thead>\n",
       "    <tr style=\"text-align: right;\">\n",
       "      <th></th>\n",
       "      <th>uid</th>\n",
       "      <th>iid</th>\n",
       "      <th>rating</th>\n",
       "      <th>timestamp</th>\n",
       "    </tr>\n",
       "  </thead>\n",
       "  <tbody>\n",
       "    <tr>\n",
       "      <th>0</th>\n",
       "      <td>1</td>\n",
       "      <td>1193</td>\n",
       "      <td>5</td>\n",
       "      <td>978300760</td>\n",
       "    </tr>\n",
       "    <tr>\n",
       "      <th>1</th>\n",
       "      <td>1</td>\n",
       "      <td>661</td>\n",
       "      <td>3</td>\n",
       "      <td>978302109</td>\n",
       "    </tr>\n",
       "    <tr>\n",
       "      <th>2</th>\n",
       "      <td>1</td>\n",
       "      <td>914</td>\n",
       "      <td>3</td>\n",
       "      <td>978301968</td>\n",
       "    </tr>\n",
       "    <tr>\n",
       "      <th>3</th>\n",
       "      <td>1</td>\n",
       "      <td>3408</td>\n",
       "      <td>4</td>\n",
       "      <td>978300275</td>\n",
       "    </tr>\n",
       "    <tr>\n",
       "      <th>4</th>\n",
       "      <td>1</td>\n",
       "      <td>2355</td>\n",
       "      <td>5</td>\n",
       "      <td>978824291</td>\n",
       "    </tr>\n",
       "    <tr>\n",
       "      <th>...</th>\n",
       "      <td>...</td>\n",
       "      <td>...</td>\n",
       "      <td>...</td>\n",
       "      <td>...</td>\n",
       "    </tr>\n",
       "    <tr>\n",
       "      <th>1000204</th>\n",
       "      <td>6040</td>\n",
       "      <td>1091</td>\n",
       "      <td>1</td>\n",
       "      <td>956716541</td>\n",
       "    </tr>\n",
       "    <tr>\n",
       "      <th>1000205</th>\n",
       "      <td>6040</td>\n",
       "      <td>1094</td>\n",
       "      <td>5</td>\n",
       "      <td>956704887</td>\n",
       "    </tr>\n",
       "    <tr>\n",
       "      <th>1000206</th>\n",
       "      <td>6040</td>\n",
       "      <td>562</td>\n",
       "      <td>5</td>\n",
       "      <td>956704746</td>\n",
       "    </tr>\n",
       "    <tr>\n",
       "      <th>1000207</th>\n",
       "      <td>6040</td>\n",
       "      <td>1096</td>\n",
       "      <td>4</td>\n",
       "      <td>956715648</td>\n",
       "    </tr>\n",
       "    <tr>\n",
       "      <th>1000208</th>\n",
       "      <td>6040</td>\n",
       "      <td>1097</td>\n",
       "      <td>4</td>\n",
       "      <td>956715569</td>\n",
       "    </tr>\n",
       "  </tbody>\n",
       "</table>\n",
       "<p>1000209 rows × 4 columns</p>\n",
       "</div>"
      ],
      "text/plain": [
       "          uid   iid  rating  timestamp\n",
       "0           1  1193       5  978300760\n",
       "1           1   661       3  978302109\n",
       "2           1   914       3  978301968\n",
       "3           1  3408       4  978300275\n",
       "4           1  2355       5  978824291\n",
       "...       ...   ...     ...        ...\n",
       "1000204  6040  1091       1  956716541\n",
       "1000205  6040  1094       5  956704887\n",
       "1000206  6040   562       5  956704746\n",
       "1000207  6040  1096       4  956715648\n",
       "1000208  6040  1097       4  956715569\n",
       "\n",
       "[1000209 rows x 4 columns]"
      ]
     },
     "execution_count": 2,
     "metadata": {},
     "output_type": "execute_result"
    }
   ],
   "source": [
    "pdr.columns = ['uid', 'iid', 'rating', 'timestamp']\n",
    "pdr"
   ]
  },
  {
   "cell_type": "code",
   "execution_count": 3,
   "metadata": {},
   "outputs": [
    {
     "name": "stdout",
     "output_type": "stream",
     "text": [
      "user: 20\n",
      "item: 1\n"
     ]
    }
   ],
   "source": [
    "print('user:', min(pdr.groupby('uid').agg('count').iid))\n",
    "print('item:', min(pdr.groupby('iid').agg('count').uid))"
   ]
  },
  {
   "cell_type": "code",
   "execution_count": 4,
   "metadata": {},
   "outputs": [],
   "source": [
    "new_pdr = pdr"
   ]
  },
  {
   "cell_type": "code",
   "execution_count": 5,
   "metadata": {},
   "outputs": [
    {
     "name": "stdout",
     "output_type": "stream",
     "text": [
      ">>> item:\n"
     ]
    },
    {
     "name": "stderr",
     "output_type": "stream",
     "text": [
      "100%|██████████| 3706/3706 [00:03<00:00, 978.07it/s]  \n"
     ]
    },
    {
     "name": "stdout",
     "output_type": "stream",
     "text": [
      ">>> user:\n"
     ]
    },
    {
     "name": "stderr",
     "output_type": "stream",
     "text": [
      "100%|██████████| 6040/6040 [00:00<00:00, 236804.63it/s]\n"
     ]
    },
    {
     "name": "stdout",
     "output_type": "stream",
     "text": [
      ">>> item:\n"
     ]
    },
    {
     "name": "stderr",
     "output_type": "stream",
     "text": [
      "100%|██████████| 3416/3416 [00:00<00:00, 220807.28it/s]\n"
     ]
    },
    {
     "name": "stdout",
     "output_type": "stream",
     "text": [
      ">>> user:\n"
     ]
    },
    {
     "name": "stderr",
     "output_type": "stream",
     "text": [
      "100%|██████████| 6040/6040 [00:00<00:00, 241100.13it/s]\n"
     ]
    }
   ],
   "source": [
    "from tqdm import tqdm\n",
    "\n",
    "low = 5\n",
    "while True:\n",
    "    n_filter = 0\n",
    "    # drop item\n",
    "    print('>>> item:')\n",
    "    user_data = new_pdr.groupby('iid').agg(list)\n",
    "    for i in tqdm(new_pdr.iid.unique()):\n",
    "        if len(user_data['uid'][i]) < low:\n",
    "            new_pdr = new_pdr[new_pdr.iid.values != i]\n",
    "            n_filter += 1\n",
    "\n",
    "    # drop user\n",
    "    print('>>> user:')\n",
    "    item_data = new_pdr.groupby('uid').agg(list)\n",
    "    for i in tqdm(new_pdr.uid.unique()):\n",
    "        if len(item_data['iid'][i]) < low:\n",
    "            new_pdr = new_pdr[new_pdr.uid.values != i]\n",
    "            n_filter += 1\n",
    "    \n",
    "    # terminate\n",
    "    if n_filter == 0:\n",
    "        break\n",
    "\n",
    "# reset index\n",
    "new_pdr.reset_index(drop=True, inplace=True)"
   ]
  },
  {
   "cell_type": "code",
   "execution_count": 6,
   "metadata": {
    "pycharm": {
     "name": "#%%\n"
    }
   },
   "outputs": [
    {
     "data": {
      "text/plain": [
       "False"
      ]
     },
     "execution_count": 6,
     "metadata": {},
     "output_type": "execute_result"
    }
   ],
   "source": [
    "def is_squ(pdr):\n",
    "    users, items = pdr['uid'].unique(), pdr['iid'].unique()\n",
    "    n_user, n_item = len(users), len(items)\n",
    "    if min(users) == 0 and max(users) == n_user-1 and min(items) == 0 and max(items) == n_item-1:\n",
    "        return True\n",
    "    else:\n",
    "        return False\n",
    "\n",
    "is_squ(new_pdr)"
   ]
  },
  {
   "cell_type": "code",
   "execution_count": 7,
   "metadata": {},
   "outputs": [
    {
     "name": "stdout",
     "output_type": "stream",
     "text": [
      "user id: 6040/6040\n",
      "item id: 3952/3416\n"
     ]
    }
   ],
   "source": [
    "print(f'user id: {max(new_pdr.uid.unique())}/{len(new_pdr.uid.unique())}')\n",
    "print(f'item id: {max(new_pdr.iid.unique())}/{len(new_pdr.iid.unique())}')"
   ]
  },
  {
   "cell_type": "code",
   "execution_count": 8,
   "metadata": {},
   "outputs": [],
   "source": [
    "import numpy as np\n",
    "\n",
    "# squeeze uid\n",
    "new_pdr.uid -= 1\n",
    "user_dict = {}\n",
    "for i, ori in enumerate(new_pdr['uid'].unique()):\n",
    "    user_dict[ori] = i\n",
    "\n",
    "# squeeze iid\n",
    "item_dict = {}\n",
    "for i, ori in enumerate(new_pdr['iid'].unique()):\n",
    "    item_dict[ori] = i\n",
    "\n",
    "np.save('user_dict', user_dict)    \n",
    "np.save('item_dict', item_dict)\n",
    "\n",
    "new_pdr.uid = new_pdr.uid.map(user_dict)\n",
    "new_pdr.iid = new_pdr.iid.map(item_dict)\n",
    "\n",
    "# save file\n",
    "new_pdr.sort_values(by=['uid', 'iid']).to_csv('ratings.csv', index=False)"
   ]
  },
  {
   "cell_type": "code",
   "execution_count": 9,
   "metadata": {},
   "outputs": [
    {
     "name": "stdout",
     "output_type": "stream",
     "text": [
      "6040\n",
      "3416\n"
     ]
    }
   ],
   "source": [
    "is_squ(new_pdr)\n",
    "print(len(new_pdr['uid'].unique()))\n",
    "print(len(new_pdr['iid'].unique()))"
   ]
  },
  {
   "cell_type": "markdown",
   "metadata": {
    "pycharm": {
     "name": "#%% md\n"
    }
   },
   "source": [
    "train:test = 9:1"
   ]
  },
  {
   "cell_type": "code",
   "execution_count": 10,
   "metadata": {
    "pycharm": {
     "name": "#%%\n"
    }
   },
   "outputs": [
    {
     "name": "stdout",
     "output_type": "stream",
     "text": [
      "6040\n",
      "0\n",
      "1000\n",
      "2000\n",
      "3000\n",
      "4000\n",
      "5000\n",
      "6000\n"
     ]
    },
    {
     "name": "stderr",
     "output_type": "stream",
     "text": [
      "/tmp/ipykernel_2793704/196034843.py:36: FutureWarning: The frame.append method is deprecated and will be removed from pandas in a future version. Use pandas.concat instead.\n",
      "  train_df = train_df.append(user_train, ignore_index=True)\n",
      "/tmp/ipykernel_2793704/196034843.py:37: FutureWarning: The frame.append method is deprecated and will be removed from pandas in a future version. Use pandas.concat instead.\n",
      "  test_df = test_df.append(user_test, ignore_index=True)\n"
     ]
    }
   ],
   "source": [
    "from tqdm import tqdm\n",
    "import time \n",
    "import pandas\n",
    "import random\n",
    "\n",
    "train_ratio = 0.9\n",
    "train_df = pd.DataFrame([], columns=['uid', 'iid', 'rating'])\n",
    "test_df = pd.DataFrame([], columns=['uid', 'iid', 'rating'])\n",
    "\n",
    "train_index = []\n",
    "test_index = []\n",
    "print(len(new_pdr.uid.unique()))\n",
    "for i in range(len(new_pdr.uid.unique())):\n",
    "    t1 = time.time()\n",
    "    indices = new_pdr[new_pdr.uid == i].index\n",
    "    index_list = indices.to_list()\n",
    "    \n",
    "    total = len(indices)\n",
    "\n",
    "    n_train = int(total * train_ratio)\n",
    "    \n",
    "    train_idx = random.sample(index_list, n_train)\n",
    "    test_idx = list(set(index_list) - set(train_idx))\n",
    "    \n",
    "    train_index.extend(train_idx)\n",
    "    test_index.extend(test_idx)\n",
    "    if i%1000 == 0:\n",
    "        print(i)\n",
    "\n",
    "train_index = np.array(train_index)\n",
    "test_index = np.array(test_index)\n",
    "\n",
    "user_train = new_pdr.iloc[np.sort(train_index), :]\n",
    "user_test = new_pdr.iloc[np.sort(test_index), :]\n",
    "    \n",
    "train_df = train_df.append(user_train, ignore_index=True)\n",
    "test_df = test_df.append(user_test, ignore_index=True)\n",
    "    \n",
    "train_df['val'] = np.float16(train_df['rating'])\n",
    "test_df['val'] = np.float16(test_df['rating'])\n",
    "\n",
    "train_df[['uid', 'iid', 'val']].to_csv('squ0_train.csv', header=None, index=False)\n",
    "test_df[['uid', 'iid', 'val']].to_csv('squ0_test.csv', header=None, index=False)"
   ]
  },
  {
   "cell_type": "code",
   "execution_count": 12,
   "metadata": {},
   "outputs": [
    {
     "name": "stdout",
     "output_type": "stream",
     "text": [
      "         uid  iid  rating\n",
      "0          0    0     5.0\n",
      "1          0    1     3.0\n",
      "2          0    2     3.0\n",
      "3          0    3     4.0\n",
      "4          0    4     5.0\n",
      "...      ...  ...     ...\n",
      "896909  6039  147     3.0\n",
      "896910  6039  772     1.0\n",
      "896911  6039  365     5.0\n",
      "896912  6039  152     4.0\n",
      "896913  6039   26     4.0\n",
      "\n",
      "[896914 rows x 3 columns]\n"
     ]
    }
   ],
   "source": [
    "train = pd.read_csv('squ0_train.csv', header=None, names=['uid', 'iid', 'rating'])\n",
    "print(train)"
   ]
  },
  {
   "cell_type": "code",
   "execution_count": 15,
   "metadata": {
    "collapsed": false,
    "pycharm": {
     "name": "#%%\n"
    }
   },
   "outputs": [
    {
     "name": "stdout",
     "output_type": "stream",
     "text": [
      "           uid   iid  rating\n",
      "571         43   327     1.0\n",
      "572         43   216     4.0\n",
      "573         43   226     4.0\n",
      "574         43    44     5.0\n",
      "575         43   612     5.0\n",
      "...        ...   ...     ...\n",
      "1031490  69870    14     4.0\n",
      "1031491  69870   140     5.0\n",
      "1031492  69870  1434     5.0\n",
      "1031493  69870   368     2.0\n",
      "1031494  69870  2564     4.0\n",
      "\n",
      "[37122 rows x 3 columns]\n"
     ]
    }
   ],
   "source": [
    "import pandas as pd\n",
    "import numpy as np\n",
    "\n",
    "train = pd.read_csv('squ0_test.csv', header=None, names=['uid', 'iid', 'rating'])\n",
    "\n",
    "user_train = np.load('/home/zyz/paper_codes/lightRE/user_data_kmeans.npy', allow_pickle=True)\n",
    "\n",
    "selected_rows_1 = train[train['uid'].isin(user_train)]\n",
    "\n",
    "print(selected_rows_1)\n",
    "selected_rows_1.to_csv('squ0_test_kmeans.csv', header=None, index=False)\n"
   ]
  },
  {
   "cell_type": "code",
   "execution_count": 17,
   "metadata": {
    "collapsed": false,
    "pycharm": {
     "name": "#%%\n"
    }
   },
   "outputs": [
    {
     "name": "stdout",
     "output_type": "stream",
     "text": [
      "2064\n",
      "6206\n"
     ]
    }
   ],
   "source": []
  }
 ],
 "metadata": {
  "kernelspec": {
   "display_name": "Python 3.8.13 ('dl_env')",
   "language": "python",
   "name": "python3"
  },
  "language_info": {
   "codemirror_mode": {
    "name": "ipython",
    "version": 3
   },
   "file_extension": ".py",
   "mimetype": "text/x-python",
   "name": "python",
   "nbconvert_exporter": "python",
   "pygments_lexer": "ipython3",
   "version": "3.8.15"
  },
  "orig_nbformat": 4,
  "vscode": {
   "interpreter": {
    "hash": "2f2427e49e3f0561cdc87871bd35e62086fc75962e5ca487292b1928c0fe65d8"
   }
  }
 },
 "nbformat": 4,
 "nbformat_minor": 2
}
